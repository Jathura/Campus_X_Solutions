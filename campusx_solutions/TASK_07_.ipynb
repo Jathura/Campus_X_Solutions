{
  "nbformat": 4,
  "nbformat_minor": 0,
  "metadata": {
    "colab": {
      "provenance": []
    },
    "kernelspec": {
      "name": "python3",
      "display_name": "Python 3"
    },
    "language_info": {
      "name": "python"
    }
  },
  "cells": [
    {
      "cell_type": "markdown",
      "source": [
        "##`Q-1:` Rectangle Class\n",
        "1. Write a Rectangle class in Python language, allowing you to build a rectangle with length and width attributes.\n",
        "\n",
        "2. Create a Perimeter() method to calculate the perimeter of the rectangle and a Area() method to calculate the area of ​​the rectangle.\n",
        "\n",
        "3. Create a method display() that display the length, width, perimeter and area of an object created using an instantiation on rectangle class."
      ],
      "metadata": {
        "id": "MoJp9c2OsqcV"
      }
    },
    {
      "cell_type": "code",
      "execution_count": null,
      "metadata": {
        "colab": {
          "base_uri": "https://localhost:8080/"
        },
        "id": "R90YCL21S2XM",
        "outputId": "680bd470-6305-41c9-a89b-0626c830a9db"
      },
      "outputs": [
        {
          "output_type": "stream",
          "name": "stdout",
          "text": [
            "Legnth of the rectangle is :-  2\n",
            "width of the rectangle is :-  3\n",
            "Perimeter of the rectangle is :-  10\n",
            "Area of the rectangle is :-  6\n"
          ]
        }
      ],
      "source": [
        "class Rectangle:\n",
        "  def __init__(self,length,width):\n",
        "    self.__length = length\n",
        "    self.__width = width\n",
        "\n",
        "  def __Perimeter(self):\n",
        "    return 2*(self.__length + self.__width)\n",
        "\n",
        "\n",
        "  def __Area(self):\n",
        "    return self.__length * self.__width\n",
        "\n",
        "\n",
        "  def Display(self):\n",
        "    print(\"Legnth of the rectangle is :- \",self.__length)\n",
        "    print(\"width of the rectangle is :- \",self.__width)\n",
        "    print(\"Perimeter of the rectangle is :- \",self.__Perimeter())\n",
        "    print(\"Area of the rectangle is :- \",self.__Area())\n",
        "\n",
        "\n",
        "\n",
        "a1 = Rectangle(2,3)\n",
        "a1.Display()"
      ]
    },
    {
      "cell_type": "code",
      "source": [],
      "metadata": {
        "id": "9qHBQFulj4pg"
      },
      "execution_count": null,
      "outputs": []
    },
    {
      "cell_type": "markdown",
      "source": [
        "##`Q-2: Bank Class`\n",
        "\n",
        "1. Create a Python class called `BankAccount` which represents a bank account, having as attributes: `accountNumber` (numeric type), `name` (name of the account owner as string type), `balance`.\n",
        "2. Create a constructor with parameters: `accountNumber, name, balance`.\n",
        "3. Create a `Deposit()` method which manages the deposit actions.\n",
        "4. Create a `Withdrawal()` method  which manages withdrawals actions.\n",
        "5. Create an `bankFees()` method to apply the bank fees with a percentage of 5% of the balance account.\n",
        "6. Create a `display()` method to display account details.\n",
        "Give the complete code for the  BankAccount class."
      ],
      "metadata": {
        "id": "3HC-2Q4zsjdh"
      }
    },
    {
      "cell_type": "code",
      "source": [
        "class BankAtm:\n",
        "  def __init__(self,name,accountNumber,balance):\n",
        "    self.name = name\n",
        "    self.accountNumber = accountNumber\n",
        "    self.balance = balance\n",
        "\n",
        "  def display(self):\n",
        "    print(\"Account Number:- \",self.accountNumber)\n",
        "    print(\"Account Name:- \",self.name)\n",
        "    print(\"Account Balance :- \",self.balance)\n",
        "\n",
        "  def deposite(self,amount):\n",
        "   self.balance = self.balance + amount\n",
        "\n",
        "  def withdrawal(self,amount):\n",
        "    if amount>self.balance:\n",
        "      print(\"not emought\")\n",
        "    else:\n",
        "      self.balance = self.balance - amount\n",
        "    reduction = self.bankFee()\n",
        "    self.balance = self.balance - reduction\n",
        "\n",
        "  def bankFee(self):\n",
        "    return 0.05*self.balance\n",
        "\n",
        "cust = BankAtm('nikhil',123,100)\n",
        "cust.deposite(500)\n",
        "cust.withdrawal(100)\n",
        "cust.display()"
      ],
      "metadata": {
        "colab": {
          "base_uri": "https://localhost:8080/"
        },
        "id": "JEkwpftKj55H",
        "outputId": "ab547c8c-c914-4edf-c8f6-966aae61851f"
      },
      "execution_count": null,
      "outputs": [
        {
          "output_type": "stream",
          "name": "stdout",
          "text": [
            "Account Number:-  123\n",
            "Account Name:-  nikhil\n",
            "Account Balance :-  475.0\n"
          ]
        }
      ]
    },
    {
      "cell_type": "code",
      "source": [
        "class BankAccount:\n",
        "\n",
        "    def __init__(self,accountNumber,name,balance):\n",
        "      self.__accountNumber = accountNumber\n",
        "      self.__name = name\n",
        "      self.__balance = balance\n",
        "\n",
        "\n",
        "    def Deposit(self):\n",
        "      a = int(input(\"Enter your account number:- \"))\n",
        "\n",
        "      if a == self.__accountNumber:\n",
        "        print(\"Sucessfully login\")\n",
        "        b = int(input(\"enter your Deposit Ammount :- \"))\n",
        "        return self.__balance + b\n",
        "      else:\n",
        "        print(\"bhut pitega\")\n",
        "\n",
        "\n",
        "    def Withdrawal(self):\n",
        "      a1 = int(input(\"Enter your account number:- \"))\n",
        "\n",
        "      if a1 == self.__accountNumber:\n",
        "        print(\"Login Sucessfully\")\n",
        "        b1 = int(input(\"Enter your Withdrawal Ammount :- \"))\n",
        "      else:\n",
        "        print(\"Bhut Pitega\")\n",
        "\n",
        "      if (b1<self.__balance):\n",
        "        return self.__balance - b1\n",
        "      else:\n",
        "        print(\"Phir Markahoge kya\")\n",
        "\n",
        "\n",
        "    def BankFee(self):\n",
        "      return \"Your bankfees is :- \",0.5 *self.__balance\n",
        "\n",
        "\n",
        "    def Display(self):\n",
        "      print(\"Account number : \",self.__accountNumber)\n",
        "      print(\"Your name : \",self.__name)\n",
        "      print(\"Your Balance : \",self.__balance)\n",
        "      print(\"Your Deposite : \",self.Deposit())\n",
        "      print(\"Your Withdrawal : \",self.Withdrawal())\n",
        "      print(\"Your Bank Fees is : \",self.BankFee())\n",
        "\n",
        "\n",
        "a1 = BankAccount(123,\"nikhil\",456)\n",
        "a1.Display()\n",
        "\n",
        "\n"
      ],
      "metadata": {
        "id": "1PQYR84TThBV"
      },
      "execution_count": null,
      "outputs": []
    },
    {
      "cell_type": "code",
      "source": [],
      "metadata": {
        "id": "xGgy1P3soyLS"
      },
      "execution_count": null,
      "outputs": []
    },
    {
      "cell_type": "markdown",
      "source": [
        "##`Q-3:Computation class`\n",
        "\n",
        "1. Create a `Computation` class with a default constructor (without parameters) allowing to perform various calculations on integers numbers.\n",
        "2. Create a method called `Factorial()` which allows to calculate the factorial of an integer n. Integer n as parameter for this method\n",
        "\n",
        "3. Create a method called `naturalSum()` allowing to calculate the sum of the first n integers 1 + 2 + 3 + .. + n. Integer n as parameter for this method.\n",
        "\n",
        "4. Create a method called `testPrime()` in  the Calculation class to test the primality of a given integer n, n is Prime or Not? Integer n as parameter for this method.\n",
        "\n",
        "5. Create  a method called `testPrims()` allowing to test if two numbers are prime between them. Two integers are prime to one another if they have only `1` as their common divisor. Eg. 4 and 9 are prime to each other.\n",
        "\n",
        "5. Create a `tableMult()` method which creates and displays the multiplication table of a given integer. Then create an `allTablesMult()` method to display all the integer multiplication tables 1, 2, 3, ..., 9.\n",
        "\n",
        "6. Create a static `listDiv()` method that gets all the divisors of a given integer on new list called  Ldiv. Create another `listDivPrim()` method that gets all the prime divisors of a given integer."
      ],
      "metadata": {
        "id": "xQ3O1buqsaXD"
      }
    },
    {
      "cell_type": "code",
      "source": [
        "class Computation:\n",
        "  def __init__(self):\n",
        "    pass\n",
        "\n",
        "\n",
        "  #----------------FACTORIAL-----------------\n",
        "\n",
        "  def Factorial(self,n):\n",
        "    j = 1\n",
        "    for i in range(1,n+1):\n",
        "      j = j*i\n",
        "    return j\n",
        "\n",
        "\n",
        "  #------------------Sum of the first n number----------\n",
        "\n",
        "  def naturalSum(self,n):\n",
        "    j = 1\n",
        "    for i in range(1,n+1):\n",
        "      j = j+i\n",
        "    return j\n",
        "\n",
        "  #------------------Primality test of a number----------\n",
        "\n",
        "    def testPrime(self,n):\n",
        "     j = 0\n",
        "     for i in range(1,n+1):\n",
        "       if (n% i ==0):\n",
        "         j = j+1\n",
        "     if (j == 2 ):\n",
        "       return True\n",
        "     else:\n",
        "       return False\n",
        "\n",
        "  #------------------------\n",
        "\n",
        "a1 = Computation( )\n",
        "a1.Factorial(4)"
      ],
      "metadata": {
        "colab": {
          "base_uri": "https://localhost:8080/"
        },
        "id": "VKPrIJI8RhVn",
        "outputId": "863ebc2d-17c2-4038-e55b-5316773ed1a5"
      },
      "execution_count": null,
      "outputs": [
        {
          "output_type": "execute_result",
          "data": {
            "text/plain": [
              "24"
            ]
          },
          "metadata": {},
          "execution_count": 2
        }
      ]
    },
    {
      "cell_type": "code",
      "source": [],
      "metadata": {
        "id": "M-OIRApYV61-"
      },
      "execution_count": null,
      "outputs": []
    },
    {
      "cell_type": "markdown",
      "source": [
        "##`Q-4`: Build flashcard using class in Python.\n",
        "\n",
        "Build a flashcard using class in python. A flashcard is a card having information on both sides, which can be used as an aid in memoization. Flashcards usually have a question on one side and an answer on the other.\n",
        "\n",
        "**Example 1:**\n",
        "\n",
        "Approach:\n",
        "\n",
        "- Create a class named FlashCard.\n",
        "- Initialize dictionary fruits using __init__() method. Here you have to define fruit name as key and it's color as value. E.g., {\"Banana\": \"yellow\", \"Strawberries\": \"pink\"}\n",
        "- Now randomly choose a pair from fruits by using _random_ module and store the key in variable _fruit_ and _value_ in variable color.\n",
        "- Now prompt the user to answer the color of the randomly chosen fruit.\n",
        "- If correct print correct else print wrong.\n",
        "\n",
        "Output:\n",
        "```bash\n",
        "welcome to fruit quiz\n",
        "What is the color of Strawberries\n",
        "pink\n",
        "Correct answer\n",
        "Enter 0, if you want to play again: 0\n",
        "What is the color of watermelon\n",
        "green\n",
        "Correct answer\n",
        "Enter 0, if you want to play again: 1\n",
        "```"
      ],
      "metadata": {
        "id": "H9gM-Q6wsStO"
      }
    },
    {
      "cell_type": "code",
      "source": [
        "import random\n",
        "\n",
        "class FlashCard:\n",
        "\n",
        "  def __init__(self):\n",
        "        self.__fruits = {\n",
        "            'apple':'red',\n",
        "            'banana':'yellow',\n",
        "            'watermelon':'green',\n",
        "            'strawberry':'pink',\n",
        "            'guava':'purpal'\n",
        "        }\n",
        "\n",
        "  def quiz(self):\n",
        "\n",
        "\n",
        "    while True:\n",
        "\n",
        "        fruit,color = random.choices(list(self.__fruits.items()))[0]\n",
        "\n",
        "        print(\"what is the color of {}\".format(fruit))\n",
        "        user_answer = input()\n",
        "\n",
        "        if user_answer.lower() == color:\n",
        "          print('Shi Jawab')\n",
        "        else:\n",
        "          print(\"Galat Jawab\")\n",
        "\n",
        "        option = int(input('Enter 0 to play again 1 to exit'))\n",
        "\n",
        "        if option:\n",
        "          break\n",
        "\n",
        "print(\"welcome to the fruit Quiz\")\n",
        "fc = FlashCard()\n",
        "fc.quiz()\n"
      ],
      "metadata": {
        "colab": {
          "base_uri": "https://localhost:8080/"
        },
        "id": "gqW4DPcibuVB",
        "outputId": "8af32cb9-5acc-4eae-f830-d16e71194a2d"
      },
      "execution_count": null,
      "outputs": [
        {
          "name": "stdout",
          "output_type": "stream",
          "text": [
            "welcome to the fruit Quiz\n",
            "what is the color of watermelon\n",
            "green\n",
            "Shi Jawab\n",
            "Enter 0 to play again 1 to exit0\n",
            "what is the color of banana\n",
            "yellow\n",
            "Shi Jawab\n",
            "Enter 0 to play again 1 to exit1\n"
          ]
        }
      ]
    },
    {
      "cell_type": "code",
      "source": [
        "import random\n",
        "d = {\n",
        "    'apple':'red',\n",
        "    'banana':'yellow',\n",
        "    'watermelon':'green',\n",
        "    'strawberry':'pink'\n",
        "}\n",
        "\n",
        "# fruit,color = random.choices(list(d.iteams()))[0]\n",
        "fruit,color = random.choices(list(d.items()))[0]\n",
        "print(fruit,color)\n",
        "print(color)\n",
        "\n"
      ],
      "metadata": {
        "colab": {
          "base_uri": "https://localhost:8080/"
        },
        "id": "6qSS3DnugKrl",
        "outputId": "751b7bae-95c1-4fd4-97e7-ad4296131983"
      },
      "execution_count": null,
      "outputs": [
        {
          "output_type": "stream",
          "name": "stdout",
          "text": [
            "strawberry pink\n",
            "pink\n"
          ]
        }
      ]
    },
    {
      "cell_type": "code",
      "source": [],
      "metadata": {
        "id": "LyQHzWPBgOZj"
      },
      "execution_count": null,
      "outputs": []
    },
    {
      "cell_type": "markdown",
      "source": [
        "## `Q-5:` Problem 5 based on OOP Python.\n",
        "\n",
        "TechWorld, a technology training center, wants to allocate courses for instructors. An instructor is identified by name, technology skills, experience and average feedback. An instructor is allocated a course, if he/she satisfies the below two conditions:\n",
        "- eligibility criteria:\n",
        "    - if experience is more than 3 years, average feedback should be 4.5 or more\n",
        "    - if experience is 3 years or less, average feedback should be 4 or more\n",
        "- he/she should posses the technology skill for the course\n",
        "\n",
        "Identify the class name and attributes to represent instructors. Write a Python program to implement the class chosen with its attributes and methods.\n",
        "\n",
        "**Note:**\n",
        "- Consider all instance variables to be private and methods to be public.\n",
        "- An instructor may have multiple technology skills, so consider instance variable, technology_skill to be a list.\n",
        "- *check_eligibility()*: Return true if eligibility criteria is satisfied by the instructor. Else, return false\n",
        "- *allocate_course(technology)*: Return true if the course which requires the given technology can be allocated to the instructor. Else, return false.\n",
        "\n",
        "Represent a few objects of the class, initialize instance variables using setter methods, invoke\n",
        "appropriate methods and test your program."
      ],
      "metadata": {
        "id": "XW-qlSKssKx-"
      }
    },
    {
      "cell_type": "code",
      "source": [
        "class Instructor:\n",
        "\n",
        "  def __init__(self,name,technology,experience,feedback):\n",
        "    self.__name = name\n",
        "    self.__technology = technology\n",
        "    self.__experience = experience\n",
        "    self.__feedback = feedback\n",
        "\n",
        "  def check_eligibility(self):\n",
        "\n",
        "     if self.__experience > 3 and self.__feedback >= 4.5:\n",
        "         return True\n",
        "     elif self.__experience <=3 and self.__feedback >= 4:\n",
        "         return True\n",
        "     else:\n",
        "         return False\n",
        "\n",
        "  def allocate_course(self,tech):\n",
        "    is_eligible = self.check_eligibility()\n",
        "\n",
        "    if is_eligible:\n",
        "      if tech.lower() in self.__technology:\n",
        "        return 'Padha skta hai'\n",
        "      else:\n",
        "        return 'Ye to usko ata he nhi hai'\n",
        "    else:\n",
        "      return 'Acha nhi padhta hai'\n",
        "\n",
        "\n",
        "ins = Instructor(\"nikhil\",['data science','web dev','ui/ux','data anlytics','Cyber Security'],3 , 5)\n",
        "ins.allocate_course('Data Science')\n"
      ],
      "metadata": {
        "colab": {
          "base_uri": "https://localhost:8080/",
          "height": 35
        },
        "id": "ooPZltpjpvM4",
        "outputId": "90348deb-d16a-4fd3-98c6-133ae048381f"
      },
      "execution_count": null,
      "outputs": [
        {
          "output_type": "execute_result",
          "data": {
            "text/plain": [
              "'Padha skta hai'"
            ],
            "application/vnd.google.colaboratory.intrinsic+json": {
              "type": "string"
            }
          },
          "metadata": {},
          "execution_count": 31
        }
      ]
    },
    {
      "cell_type": "code",
      "source": [],
      "metadata": {
        "id": "_IHJPlHjvs48"
      },
      "execution_count": null,
      "outputs": []
    }
  ]
}