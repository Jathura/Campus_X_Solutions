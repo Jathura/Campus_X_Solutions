{
  "nbformat": 4,
  "nbformat_minor": 0,
  "metadata": {
    "colab": {
      "provenance": []
    },
    "kernelspec": {
      "name": "python3",
      "display_name": "Python 3"
    },
    "language_info": {
      "name": "python"
    }
  },
  "cells": [
    {
      "cell_type": "markdown",
      "source": [
        "##`Q-1:` Rectangle Class\n",
        "1. Write a Rectangle class in Python language, allowing you to build a rectangle with length and width attributes.\n",
        "\n",
        "2. Create a Perimeter() method to calculate the perimeter of the rectangle and a Area() method to calculate the area of ​​the rectangle.\n",
        "\n",
        "3. Create a method display() that display the length, width, perimeter and area of an object created using an instantiation on rectangle class."
      ],
      "metadata": {
        "id": "yY-UeXeRIjPF"
      }
    },
    {
      "cell_type": "code",
      "source": [
        "class Rectangle:\n",
        "  def __init__(self,l,b):\n",
        "    self.length = l\n",
        "    self.width = b\n",
        "\n",
        "  def Perimeter(self):\n",
        "    return 2*(self.length+self.width)\n",
        "\n",
        "  def Area(self):\n",
        "    return (self.length+self.width)\n",
        "\n",
        "  def Display(self):\n",
        "    print(\"Length and the Width of the Rectangle is \",self.length,self.width)\n",
        "    print(\"Perimeter of the rectangle is \",self.Perimeter())\n",
        "    print(\"Area of Rectangle is \",self.Area())\n",
        "\n",
        "obj = Rectangle(3,4)\n",
        "obj.Display()"
      ],
      "metadata": {
        "colab": {
          "base_uri": "https://localhost:8080/"
        },
        "id": "9eYNGfz_Kkw0",
        "outputId": "b73b787f-6533-4094-976b-2b1f5b2ef792"
      },
      "execution_count": null,
      "outputs": [
        {
          "output_type": "stream",
          "name": "stdout",
          "text": [
            "Length and the Width of the Rectangle is  3 4\n",
            "Perimeter of the rectangle is  14\n",
            "Area of Rectangle is  7\n"
          ]
        }
      ]
    },
    {
      "cell_type": "code",
      "source": [],
      "metadata": {
        "id": "UXJUMF2FYXaf"
      },
      "execution_count": null,
      "outputs": []
    },
    {
      "cell_type": "markdown",
      "source": [
        "##`Q-2: Bank Class`\n",
        "\n",
        "1. Create a Python class called `BankAccount` which represents a bank account, having as attributes: `accountNumber` (numeric type), `name` (name of the account owner as string type), `balance`.\n",
        "2. Create a constructor with parameters: `accountNumber, name, balance`.\n",
        "3. Create a `Deposit()` method which manages the deposit actions.\n",
        "4. Create a `Withdrawal()` method  which manages withdrawals actions.\n",
        "5. Create an `bankFees()` method to apply the bank fees with a percentage of 5% of the balance account.\n",
        "6. Create a `display()` method to display account details.\n",
        "Give the complete code for the  BankAccount class."
      ],
      "metadata": {
        "id": "W8vwncpsTMpu"
      }
    },
    {
      "cell_type": "code",
      "source": [
        "class BankAccount:\n",
        "  def __init__(self,acc_no,name,balance):\n",
        "     self.name = name\n",
        "     self.acc_no = acc_no\n",
        "     self.balance = balance\n",
        "\n",
        "\n",
        "  def Deposite(self):\n",
        "    a = int(input(\"Enter your Deposited Ammount:- \"))\n",
        "    if a == 0 :\n",
        "      print(\"chala ja\")\n",
        "    else:\n",
        "      self.balance = a + self.balance\n",
        "      print(\" Sucessfully Deposited and Your total amount is :\",self.balance )\n",
        "\n",
        "\n",
        "  def Withdrawal(self):\n",
        "\n",
        "    e = int(input(\"Enter your withdrawwal Ammount \"))\n",
        "\n",
        "    if e > self.balance :\n",
        "      print(\"Chala ja Bsdk \")\n",
        "    else:\n",
        "      f = self.balance - e\n",
        "      print(\"Succefully Withdrawal from Account and Your Total Ammount is\",f)\n",
        "\n",
        "  def BankFee(self):\n",
        "       q = self.balance*0.05\n",
        "       print(\"Our bankfees is on the ammount you have in the account\",q)\n",
        "\n",
        "  def diplay(self):\n",
        "     print(\"'Account Number:\",self.acc_no)\n",
        "     print(\"Account Name: Mandy\")\n",
        "     print(\"Balance\",self.balance)\n",
        "\n",
        "a1 = BankAccount(\"nikhil\",123,10)\n",
        "a1.diplay()"
      ],
      "metadata": {
        "id": "odBf4hJrNchE",
        "colab": {
          "base_uri": "https://localhost:8080/"
        },
        "outputId": "981f5d84-841b-4669-d790-39b526e8806f"
      },
      "execution_count": null,
      "outputs": [
        {
          "output_type": "stream",
          "name": "stdout",
          "text": [
            "'Account Number: nikhil\n",
            "Account Name: Mandy\n",
            "Balance 10\n"
          ]
        }
      ]
    },
    {
      "cell_type": "code",
      "source": [],
      "metadata": {
        "id": "WONEFqHwYUP2"
      },
      "execution_count": null,
      "outputs": []
    },
    {
      "cell_type": "markdown",
      "source": [
        "##`Q-3:Computation class`\n",
        "\n",
        "1. Create a `Computation` class with a default constructor (without parameters) allowing to perform various calculations on integers numbers.\n",
        "2. Create a method called `Factorial()` which allows to calculate the factorial of an integer n. Integer n as parameter for this method\n",
        "\n",
        "3. Create a method called `naturalSum()` allowing to calculate the sum of the first n integers 1 + 2 + 3 + .. + n. Integer n as parameter for this method.\n",
        "\n",
        "4. Create a method called `testPrime()` in  the Calculation class to test the primality of a given integer n, n is Prime or Not? Integer n as parameter for this method.\n",
        "\n",
        "5. Create  a method called `testPrims()` allowing to test if two numbers are prime between them. Two integers are prime to one another if they have only `1` as their common divisor. Eg. 4 and 9 are prime to each other.\n",
        "\n",
        "5. Create a `tableMult()` method which creates and displays the multiplication table of a given integer. Then create an `allTablesMult()` method to display all the integer multiplication tables 1, 2, 3, ..., 9.\n",
        "\n",
        "6. Create a static `listDiv()` method that gets all the divisors of a given integer on new list called  Ldiv. Create another `listDivPrim()` method that gets all the prime divisors of a given integer."
      ],
      "metadata": {
        "id": "ETDQAzGwYUvz"
      }
    },
    {
      "cell_type": "code",
      "source": [
        "class Computation:\n",
        "  def __init__(self):\n",
        "    pass\n",
        "\n",
        "\n",
        "#---------------Factorial--------------\n",
        "\n",
        "  def __init__(self,n):\n",
        "    j = 1\n",
        "    for i in range(1,n+1):\n",
        "      j = j*i\n",
        "    return j\n",
        "\n",
        "\n",
        "#-----------------Sum of the first n number-------------\n",
        "  def naturalSum(self,n):\n",
        "   j = 1\n",
        "   for i in range(1,n+1):\n",
        "      j = j+i\n",
        "   return j\n",
        "\n",
        "#-----------------Primality test of the number----------------\n",
        "   def testPrime(self,n):\n",
        "    j =0\n",
        "    for i in range(1,n+1):\n",
        "      if (n%i==0):\n",
        "          j = j+1\n",
        "      if (j==2):\n",
        "        return True\n",
        "      else:\n",
        "        return False\n",
        "\n",
        "#-------------------Primality test of two integers-------------------\n",
        "  def testPrime(self,n,m):\n",
        "\n",
        "    # initialize the number of commans divisors\n",
        "    commDiv = 0\n",
        "    for i in range(1,n+1):\n",
        "      if (n% i ==0 and m% i ==0):\n",
        "        commonDiv = commonDiv +1\n",
        "    if commomDiv == 1:\n",
        "      print(\"the\")"
      ],
      "metadata": {
        "id": "u-92oZgzRxbU"
      },
      "execution_count": null,
      "outputs": []
    },
    {
      "cell_type": "code",
      "source": [],
      "metadata": {
        "id": "hxrZGAzcaxGl"
      },
      "execution_count": null,
      "outputs": []
    },
    {
      "cell_type": "markdown",
      "source": [
        "##`Q-4`: Build flashcard using class in Python.\n",
        "\n",
        "Build a flashcard using class in python. A flashcard is a card having information on both sides, which can be used as an aid in memoization. Flashcards usually have a question on one side and an answer on the other.\n",
        "\n",
        "**Example 1:**\n",
        "\n",
        "Approach:\n",
        "\n",
        "- Create a class named FlashCard.\n",
        "- Initialize dictionary fruits using __init__() method. Here you have to define fruit name as key and it's color as value. E.g., {\"Banana\": \"yellow\", \"Strawberries\": \"pink\"}\n",
        "- Now randomly choose a pair from fruits by using _random_ module and store the key in variable _fruit_ and _value_ in variable color.\n",
        "- Now prompt the user to answer the color of the randomly chosen fruit.\n",
        "- If correct print correct else print wrong.\n",
        "\n",
        "Output:\n",
        "```bash\n",
        "welcome to fruit quiz\n",
        "What is the color of Strawberries\n",
        "pink\n",
        "Correct answer\n",
        "Enter 0, if you want to play again: 0\n",
        "What is the color of watermelon\n",
        "green\n",
        "Correct answer\n",
        "Enter 0, if you want to play again: 1\n",
        "```"
      ],
      "metadata": {
        "id": "ZMH_ZIguefsW"
      }
    },
    {
      "cell_type": "code",
      "source": [
        "import random\n",
        "\n",
        "class FlashCard:\n",
        "\n",
        "\n",
        "  def __init__(self):\n",
        "    self.__fruits = {\n",
        "        'apple':'red',\n",
        "        'banana':'yellow',\n",
        "        'watermelon':'green',\n",
        "        'strawberry':'pink',\n",
        "        'guava':'green'\n",
        "    }\n",
        "\n",
        "\n",
        "  def  quiz(self):\n",
        "\n",
        "    while True:\n",
        "\n",
        "      fruit,color = random.choices(list(self.__fruits.items()))[0]\n",
        "\n",
        "      print('What is the color of {}'.format(fruit))\n",
        "      user_answer = input()\n",
        "\n",
        "\n",
        "      if user_answer.lower() == color:\n",
        "        print(\"Shi jawab\")\n",
        "\n",
        "      else:\n",
        "        print(\"Galat Jawab\")\n",
        "\n",
        "\n",
        "      option = int(input('Enter 0 to play agmaiin 1 to exit'))\n",
        "\n",
        "      if option :\n",
        "        break\n",
        "\n",
        "\n",
        "print(\"Welcome to the fruit Quiz\")\n",
        "fc = FlashCard()\n",
        "fc.quiz()\n",
        "\n",
        "\n",
        "\n"
      ],
      "metadata": {
        "id": "ytRn5oySeYxq",
        "colab": {
          "base_uri": "https://localhost:8080/"
        },
        "outputId": "ed6e35c1-e724-42e3-fe6a-a217506d25ad"
      },
      "execution_count": null,
      "outputs": [
        {
          "name": "stdout",
          "output_type": "stream",
          "text": [
            "Welcome to the fruit Quiz\n",
            "What is the color of guava\n",
            "1\n",
            "Galat Jawab\n",
            "Enter 0 to play agmaiin 1 to exit1\n"
          ]
        }
      ]
    },
    {
      "cell_type": "code",
      "source": [],
      "metadata": {
        "id": "cxRo7fpYqpCT"
      },
      "execution_count": null,
      "outputs": []
    },
    {
      "cell_type": "markdown",
      "source": [
        "## `Q-5:` Problem 5 based on OOP Python.\n",
        "\n",
        "TechWorld, a technology training center, wants to allocate courses for instructors. An instructor is identified by name, technology skills, experience and average feedback. An instructor is allocated a course, if he/she satisfies the below two conditions:\n",
        "- eligibility criteria:\n",
        "    - if experience is more than 3 years, average feedback should be 4.5 or more\n",
        "    - if experience is 3 years or less, average feedback should be 4 or more\n",
        "- he/she should posses the technology skill for the course\n",
        "\n",
        "Identify the class name and attributes to represent instructors. Write a Python program to implement the class chosen with its attributes and methods.\n",
        "\n",
        "**Note:**\n",
        "- Consider all instance variables to be private and methods to be public.\n",
        "- An instructor may have multiple technology skills, so consider instance variable, technology_skill to be a list.\n",
        "- *check_eligibility()*: Return true if eligibility criteria is satisfied by the instructor. Else, return false\n",
        "- *allocate_course(technology)*: Return true if the course which requires the given technology can be allocated to the instructor. Else, return false.\n",
        "\n",
        "Represent a few objects of the class, initialize instance variables using setter methods, invoke\n",
        "appropriate methods and test your program."
      ],
      "metadata": {
        "id": "OxpO5ugiq_Ld"
      }
    },
    {
      "cell_type": "code",
      "source": [
        "class Instructor:\n",
        "\n",
        "  def __init__(self,name,technology,experience,feedback):\n",
        "      self.__name = name\n",
        "      self.__technology = technology\n",
        "      self.__experience = experience\n",
        "      self.__feedback = feedback\n",
        "\n",
        "  def check_eligibility(self):\n",
        "\n",
        "    if self.__experience > 3 and self.__feedback >=4.5:\n",
        "      return True\n",
        "    elif self.__experience <= 3 and self.__feedback >=4:\n",
        "      return True\n",
        "    else:\n",
        "       return False\n",
        "\n",
        "  def allocate_course(self,tech):\n",
        "    is_eligible = self.check_eligibility()\n",
        "\n",
        "    if is_eligible :\n",
        "      if tech in self.__technology:\n",
        "        return 'Padha sakta hai'\n",
        "      else:\n",
        "        return 'Ye to usko ata he nhi'\n",
        "    else:\n",
        "      return 'Acha nhi Padhta Hai'\n",
        "\n",
        "ins = Instructor('Nikhil',['Data Science','Web Development'],5,3.5)\n",
        "ins.allocate_course('Data Science')\n"
      ],
      "metadata": {
        "id": "7dkKlwEJq_sY",
        "colab": {
          "base_uri": "https://localhost:8080/",
          "height": 36
        },
        "outputId": "9112120f-fe8d-43aa-cfc6-bd12bd9b5b15"
      },
      "execution_count": 3,
      "outputs": [
        {
          "output_type": "execute_result",
          "data": {
            "text/plain": [
              "'Acha nhi Padhta Hai'"
            ],
            "application/vnd.google.colaboratory.intrinsic+json": {
              "type": "string"
            }
          },
          "metadata": {},
          "execution_count": 3
        }
      ]
    },
    {
      "cell_type": "code",
      "source": [],
      "metadata": {
        "id": "ZgucRuBvzUAY"
      },
      "execution_count": null,
      "outputs": []
    }
  ]
}